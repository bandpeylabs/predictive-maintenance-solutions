{
 "cells": [
  {
   "cell_type": "code",
   "execution_count": 0,
   "metadata": {
    "application/vnd.databricks.v1+cell": {
     "cellMetadata": {
      "byteLimit": 2048000,
      "rowLimit": 10000
     },
     "inputWidgets": {},
     "nuid": "c276d3e0-33b7-4fb4-a340-737e4a5e73af",
     "showTitle": false,
     "tableResultSettingsMap": {},
     "title": ""
    }
   },
   "outputs": [],
   "source": [
    "catalog_name = 'demos'\n",
    "schema_name = 'engine_rul_predictor'\n",
    "\n",
    "# Use the variable in the SQL command\n",
    "spark.sql(f\"CREATE SCHEMA IF NOT EXISTS {schema_name}\")"
   ]
  },
  {
   "cell_type": "code",
   "execution_count": 0,
   "metadata": {
    "application/vnd.databricks.v1+cell": {
     "cellMetadata": {
      "byteLimit": 2048000,
      "rowLimit": 10000
     },
     "inputWidgets": {},
     "nuid": "d231e77e-e5f2-4819-b7e5-7f496e575bf7",
     "showTitle": false,
     "tableResultSettingsMap": {},
     "title": ""
    }
   },
   "outputs": [],
   "source": [
    "spark.sql(f\"USE CATALOG {catalog_name}\")\n",
    "spark.sql(f\"USE SCHEMA {schema_name}\")"
   ]
  },
  {
   "cell_type": "code",
   "execution_count": 0,
   "metadata": {
    "application/vnd.databricks.v1+cell": {
     "cellMetadata": {
      "byteLimit": 2048000,
      "rowLimit": 10000
     },
     "inputWidgets": {},
     "nuid": "dc9f9eec-e133-42c6-bf92-35712109d568",
     "showTitle": false,
     "tableResultSettingsMap": {},
     "title": ""
    }
   },
   "outputs": [],
   "source": [
    "source_table = 'dataknobs_predictive_maintenance_and_asset_management.datasets.nasa_data_train_test'\n",
    "target_table = 'nasa_data_train_test'\n",
    "\n",
    "# Read data from the source table using SQL\n",
    "df = spark.sql(f\"SELECT * FROM {source_table}\")\n",
    "\n",
    "# Overwrite the target table if it exists\n",
    "df.write.mode(\"overwrite\").saveAsTable(target_table)"
   ]
  },
  {
   "cell_type": "code",
   "execution_count": 0,
   "metadata": {
    "application/vnd.databricks.v1+cell": {
     "cellMetadata": {
      "byteLimit": 2048000,
      "rowLimit": 10000
     },
     "inputWidgets": {},
     "nuid": "430eaed3-9a7b-457f-8ab3-9314cf9c7c95",
     "showTitle": false,
     "tableResultSettingsMap": {},
     "title": ""
    }
   },
   "outputs": [
    {
     "output_type": "display_data",
     "data": {
      "text/plain": [
       "Databricks visualization. Run in Databricks to view."
      ]
     },
     "metadata": {
      "application/vnd.databricks.v1.subcommand+json": {
       "baseErrorDetails": null,
       "bindings": {},
       "collapsed": false,
       "command": "%python\n__backend_agg_display_orig = display\n__backend_agg_dfs = []\ndef __backend_agg_display_new(df):\n    __backend_agg_df_modules = [\"pandas.core.frame\", \"databricks.koalas.frame\", \"pyspark.sql.dataframe\", \"pyspark.pandas.frame\", \"pyspark.sql.connect.dataframe\"]\n    if (type(df).__module__ in __backend_agg_df_modules and type(df).__name__ == 'DataFrame') or isinstance(df, list):\n        __backend_agg_dfs.append(df)\n\ndisplay = __backend_agg_display_new\n\ndef __backend_agg_user_code_fn():\n    import base64\n    exec(base64.standard_b64decode(\"ZnJvbSBweXNwYXJrLnNxbC5mdW5jdGlvbnMgaW1wb3J0IGNvdW50CgojIEdyb3VwIGJ5ICdpZCcsIGNvdW50IHRoZSBudW1iZXIgb2Ygcm93cyBpbiBlYWNoIGdyb3VwLCBhbmQgb3JkZXIgYnkgJ2lkJwpkZl9ncm91cGVkID0gZGYuZ3JvdXBCeSgnaWQnKS5hZ2coY291bnQoJyonKS5hbGlhcygnY291bnQnKSkub3JkZXJCeSgnaWQnKQoKIyBEaXNwbGF5IHRoZSBEYXRhRnJhbWUgdG8gdXNlIGJ1aWx0LWluIHZpc3VhbGl6YXRpb25zCmRpc3BsYXkoZGZfZ3JvdXBlZCk=\").decode())\n\ntry:\n    # run user code\n    __backend_agg_user_code_fn()\n\n    #reset display function\n    display = __backend_agg_display_orig\n\n    if len(__backend_agg_dfs) > 0:\n        # create a temp view\n        if type(__backend_agg_dfs[0]).__module__ == \"databricks.koalas.frame\":\n            # koalas dataframe\n            __backend_agg_dfs[0].to_spark().createOrReplaceTempView(\"DatabricksView1654b3e\")\n        elif type(__backend_agg_dfs[0]).__module__ == \"pandas.core.frame\" or isinstance(__backend_agg_dfs[0], list):\n            # pandas dataframe\n            spark.createDataFrame(__backend_agg_dfs[0]).createOrReplaceTempView(\"DatabricksView1654b3e\")\n        else:\n            __backend_agg_dfs[0].createOrReplaceTempView(\"DatabricksView1654b3e\")\n        #run backend agg\n        display(spark.sql(\"\"\"WITH q AS (select * from DatabricksView1654b3e) SELECT `id`,`count` FROM q\"\"\"))\n    else:\n        displayHTML(\"dataframe no longer exists. If you're using dataframe.display(), use display(dataframe) instead.\")\n\n\nfinally:\n    spark.sql(\"drop view if exists DatabricksView1654b3e\")\n    display = __backend_agg_display_orig\n    del __backend_agg_display_new\n    del __backend_agg_display_orig\n    del __backend_agg_dfs\n    del __backend_agg_user_code_fn\n\n",
       "commandTitle": "Visualization 1",
       "commandType": "auto",
       "commandVersion": 0,
       "commentThread": [],
       "commentsVisible": false,
       "contentSha256Hex": null,
       "customPlotOptions": {
        "redashChart": [
         {
          "key": "type",
          "value": "CHART"
         },
         {
          "key": "options",
          "value": {
           "alignYAxesAtZero": true,
           "coefficient": 1,
           "columnConfigurationMap": {
            "x": {
             "column": "id",
             "id": "column_e31b4a71111"
            },
            "y": [
             {
              "column": "count",
              "id": "column_e31b4a71112"
             }
            ]
           },
           "dateTimeFormat": "DD/MM/YYYY HH:mm",
           "direction": {
            "type": "counterclockwise"
           },
           "error_y": {
            "type": "data",
            "visible": true
           },
           "globalSeriesType": "scatter",
           "legend": {
            "traceorder": "normal"
           },
           "missingValuesAsZero": true,
           "numberFormat": "0,0.[00000]",
           "percentFormat": "0[.]00%",
           "series": {
            "error_y": {
             "type": "data",
             "visible": true
            },
            "stacking": null
           },
           "seriesOptions": {
            "column_e31b4a71112": {
             "name": "count",
             "yAxis": 0
            }
           },
           "showDataLabels": false,
           "sizemode": "diameter",
           "sortX": true,
           "sortY": true,
           "swappedAxes": false,
           "textFormat": "",
           "useAggregationsUi": true,
           "valuesOptions": {},
           "version": 2,
           "xAxis": {
            "labels": {
             "enabled": true
            },
            "type": "-"
           },
           "yAxis": [
            {
             "type": "-"
            },
            {
             "opposite": true,
             "type": "-"
            }
           ]
          }
         }
        ]
       },
       "datasetPreviewNameToCmdIdMap": {},
       "diffDeletes": [],
       "diffInserts": [],
       "displayType": "redashChart",
       "error": null,
       "errorDetails": null,
       "errorSummary": null,
       "errorTraceType": null,
       "finishTime": 0,
       "globalVars": {},
       "guid": "",
       "height": "auto",
       "hideCommandCode": false,
       "hideCommandResult": false,
       "iPythonMetadata": null,
       "inputWidgets": {},
       "isLockedInExamMode": false,
       "latestUser": "a user",
       "latestUserId": null,
       "listResultMetadata": null,
       "metadata": {
        "byteLimit": 2048000,
        "rowLimit": 10000
       },
       "nuid": "4ad9ebdf-7c2f-4e95-bf0f-ff8053a8f430",
       "origId": 0,
       "parentHierarchy": [],
       "pivotAggregation": null,
       "pivotColumns": null,
       "position": 5.0,
       "resultDbfsErrorMessage": null,
       "resultDbfsStatus": "INLINED_IN_TREE",
       "results": null,
       "showCommandTitle": false,
       "startTime": 0,
       "state": "input",
       "streamStates": {},
       "subcommandOptions": {
        "queryPlan": {
         "selects": [
          {
           "column": "id",
           "type": "column"
          },
          {
           "column": "count",
           "type": "column"
          }
         ]
        }
       },
       "submitTime": 0,
       "subtype": "tableResultSubCmd.visualization",
       "tableResultIndex": 0,
       "tableResultSettingsMap": {},
       "useConsistentColors": false,
       "version": "CommandV1",
       "width": "auto",
       "workflows": null,
       "xColumns": null,
       "yColumns": null
      }
     },
     "output_type": "display_data"
    }
   ],
   "source": [
    "from pyspark.sql.functions import count\n",
    "\n",
    "# Group by 'id', count the number of rows in each group, and order by 'id'\n",
    "df_grouped = df.groupBy('id').agg(count('*').alias('count')).orderBy('id')\n",
    "\n",
    "# Display the DataFrame to use built-in visualizations\n",
    "display(df_grouped)"
   ]
  },
  {
   "cell_type": "code",
   "execution_count": 0,
   "metadata": {
    "application/vnd.databricks.v1+cell": {
     "cellMetadata": {
      "byteLimit": 2048000,
      "rowLimit": 10000
     },
     "inputWidgets": {},
     "nuid": "bde08cda-ddd7-4329-b046-feb84db55b71",
     "showTitle": false,
     "tableResultSettingsMap": {},
     "title": ""
    }
   },
   "outputs": [],
   "source": [
    "from pyspark.sql.functions import col, sum as spark_sum\n",
    "\n",
    "null_counts = df.select([spark_sum(col(c).isNull().cast(\"int\")).alias(c) for c in df.columns])\n",
    "sorted_null_counts = null_counts.selectExpr(\"stack({0}, {1}) as (column, null_count)\".format(len(df.columns), ', '.join([\"'{0}', {0}\".format(c) for c in df.columns]))).orderBy('null_count')\n",
    "display(sorted_null_counts)"
   ]
  },
  {
   "cell_type": "code",
   "execution_count": 0,
   "metadata": {
    "application/vnd.databricks.v1+cell": {
     "cellMetadata": {
      "byteLimit": 2048000,
      "rowLimit": 10000
     },
     "inputWidgets": {},
     "nuid": "3ae592c3-9880-4585-bec6-c75b748c4939",
     "showTitle": false,
     "tableResultSettingsMap": {},
     "title": ""
    }
   },
   "outputs": [],
   "source": [
    "from pyspark.sql.functions import col, count\n",
    "\n",
    "# Group by all columns and count the number of duplicates\n",
    "duplicates = df.groupBy(df.columns).agg(count(\"*\").alias(\"count\")).filter(col(\"count\") > 1)\n",
    "\n",
    "# Display the DataFrame to use built-in visualizations\n",
    "display(duplicates)"
   ]
  },
  {
   "cell_type": "code",
   "execution_count": 0,
   "metadata": {
    "application/vnd.databricks.v1+cell": {
     "cellMetadata": {
      "byteLimit": 2048000,
      "rowLimit": 10000
     },
     "inputWidgets": {},
     "nuid": "e25e22da-174f-4923-915f-b4dbf15e4652",
     "showTitle": false,
     "tableResultSettingsMap": {},
     "title": ""
    }
   },
   "outputs": [
    {
     "output_type": "display_data",
     "data": {
      "text/plain": [
       "Databricks visualization. Run in Databricks to view."
      ]
     },
     "metadata": {
      "application/vnd.databricks.v1.subcommand+json": {
       "baseErrorDetails": null,
       "bindings": {},
       "collapsed": false,
       "command": "%python\n__backend_agg_display_orig = display\n__backend_agg_dfs = []\ndef __backend_agg_display_new(df):\n    __backend_agg_df_modules = [\"pandas.core.frame\", \"databricks.koalas.frame\", \"pyspark.sql.dataframe\", \"pyspark.pandas.frame\", \"pyspark.sql.connect.dataframe\"]\n    if (type(df).__module__ in __backend_agg_df_modules and type(df).__name__ == 'DataFrame') or isinstance(df, list):\n        __backend_agg_dfs.append(df)\n\ndisplay = __backend_agg_display_new\n\ndef __backend_agg_user_code_fn():\n    import base64\n    exec(base64.standard_b64decode(\"ZnJvbSBweXNwYXJrLnNxbC5mdW5jdGlvbnMgaW1wb3J0IGNvcnIKCiMgU2VsZWN0IG51bWVyaWMgY29sdW1ucyBmb3IgY29ycmVsYXRpb24gbWF0cml4Cm51bWVyaWNfY29sdW1ucyA9IFtjIGZvciBjLCB0IGluIGRmLmR0eXBlcyBpZiB0IGluIFsnaW50JywgJ2RvdWJsZSddXQoKIyBDb21wdXRlIHRoZSBQZWFyc29uIGNvcnJlbGF0aW9uIG1hdHJpeApjb3JyZWxhdGlvbl92YWx1ZXMgPSBbXQpmb3IgaSwgY29sMSBpbiBlbnVtZXJhdGUobnVtZXJpY19jb2x1bW5zKToKICAgIGZvciBjb2wyIGluIG51bWVyaWNfY29sdW1uc1tpOl06CiAgICAgICAgY29ycl92YWx1ZSA9IGRmLnN0YXQuY29ycihjb2wxLCBjb2wyKQogICAgICAgIGNvcnJlbGF0aW9uX3ZhbHVlcy5hcHBlbmQoKGNvbDEsIGNvbDIsIGNvcnJfdmFsdWUpKQoKIyBDb252ZXJ0IHRoZSBjb3JyZWxhdGlvbiB2YWx1ZXMgdG8gYSBEYXRhRnJhbWUgZm9yIGJldHRlciB2aXN1YWxpemF0aW9uCmNvcnJlbGF0aW9uX2RmID0gc3BhcmsuY3JlYXRlRGF0YUZyYW1lKAogICAgY29ycmVsYXRpb25fdmFsdWVzLAogICAgWyJjb2x1bW4xIiwgImNvbHVtbjIiLCAiY29ycmVsYXRpb24iXQopCgpkaXNwbGF5KGNvcnJlbGF0aW9uX2RmKQ==\").decode())\n\ntry:\n    # run user code\n    __backend_agg_user_code_fn()\n\n    #reset display function\n    display = __backend_agg_display_orig\n\n    if len(__backend_agg_dfs) > 0:\n        # create a temp view\n        if type(__backend_agg_dfs[0]).__module__ == \"databricks.koalas.frame\":\n            # koalas dataframe\n            __backend_agg_dfs[0].to_spark().createOrReplaceTempView(\"DatabricksView58e94d3\")\n        elif type(__backend_agg_dfs[0]).__module__ == \"pandas.core.frame\" or isinstance(__backend_agg_dfs[0], list):\n            # pandas dataframe\n            spark.createDataFrame(__backend_agg_dfs[0]).createOrReplaceTempView(\"DatabricksView58e94d3\")\n        else:\n            __backend_agg_dfs[0].createOrReplaceTempView(\"DatabricksView58e94d3\")\n        #run backend agg\n        display(spark.sql(\"\"\"WITH q AS (select * from DatabricksView58e94d3) SELECT `column1`,`column2`,SUM(`correlation`) `column_e31b4a71134` FROM q GROUP BY `column1`,`column2`\"\"\"))\n    else:\n        displayHTML(\"dataframe no longer exists. If you're using dataframe.display(), use display(dataframe) instead.\")\n\n\nfinally:\n    spark.sql(\"drop view if exists DatabricksView58e94d3\")\n    display = __backend_agg_display_orig\n    del __backend_agg_display_new\n    del __backend_agg_display_orig\n    del __backend_agg_dfs\n    del __backend_agg_user_code_fn\n\n",
       "commandTitle": "Visualization 1",
       "commandType": "auto",
       "commandVersion": 0,
       "commentThread": [],
       "commentsVisible": false,
       "contentSha256Hex": null,
       "customPlotOptions": {
        "redashChart": [
         {
          "key": "type",
          "value": "CHART"
         },
         {
          "key": "options",
          "value": {
           "alignYAxesAtZero": true,
           "coefficient": 1,
           "columnConfigurationMap": {
            "x": {
             "column": "column1",
             "id": "column_e31b4a71129"
            },
            "y": [
             {
              "column": "column2",
              "id": "column_e31b4a71132"
             }
            ],
            "zVal": {
             "column": "correlation",
             "id": "column_e31b4a71134",
             "transform": "SUM"
            }
           },
           "dateTimeFormat": "DD/MM/YYYY HH:mm",
           "direction": {
            "type": "counterclockwise"
           },
           "error_y": {
            "type": "data",
            "visible": true
           },
           "globalSeriesType": "heatmap",
           "isAggregationOn": true,
           "legend": {
            "traceorder": "normal"
           },
           "missingValuesAsZero": true,
           "numberFormat": "0,0.[00000]",
           "percentFormat": "0[.]00%",
           "series": {
            "error_y": {
             "type": "data",
             "visible": true
            },
            "stacking": null
           },
           "seriesOptions": {
            "column_e31b4a71131": {
             "name": "correlation",
             "type": "heatmap",
             "yAxis": 0
            },
            "column_e31b4a71132": {
             "type": "heatmap",
             "yAxis": 0
            }
           },
           "showDataLabels": false,
           "sizemode": "diameter",
           "sortX": true,
           "sortY": true,
           "swappedAxes": false,
           "textFormat": "",
           "useAggregationsUi": true,
           "valuesOptions": {},
           "version": 2,
           "xAxis": {
            "labels": {
             "enabled": true
            },
            "type": "-"
           },
           "yAxis": [
            {
             "type": "-"
            },
            {
             "opposite": true,
             "type": "-"
            }
           ]
          }
         }
        ]
       },
       "datasetPreviewNameToCmdIdMap": {},
       "diffDeletes": [],
       "diffInserts": [],
       "displayType": "redashChart",
       "error": null,
       "errorDetails": null,
       "errorSummary": null,
       "errorTraceType": null,
       "finishTime": 0,
       "globalVars": {},
       "guid": "",
       "height": "auto",
       "hideCommandCode": false,
       "hideCommandResult": false,
       "iPythonMetadata": null,
       "inputWidgets": {},
       "isLockedInExamMode": false,
       "latestUser": "a user",
       "latestUserId": null,
       "listResultMetadata": null,
       "metadata": {},
       "nuid": "e716f593-e255-4ab8-8366-26d7e225e2d1",
       "origId": 0,
       "parentHierarchy": [],
       "pivotAggregation": null,
       "pivotColumns": null,
       "position": 8.0,
       "resultDbfsErrorMessage": null,
       "resultDbfsStatus": "INLINED_IN_TREE",
       "results": null,
       "showCommandTitle": false,
       "startTime": 0,
       "state": "input",
       "streamStates": {},
       "subcommandOptions": {
        "queryPlan": {
         "groups": [
          {
           "column": "column1",
           "type": "column"
          },
          {
           "column": "column2",
           "type": "column"
          }
         ],
         "selects": [
          {
           "column": "column1",
           "type": "column"
          },
          {
           "column": "column2",
           "type": "column"
          },
          {
           "alias": "column_e31b4a71134",
           "args": [
            {
             "column": "correlation",
             "type": "column"
            }
           ],
           "function": "SUM",
           "type": "function"
          }
         ]
        }
       },
       "submitTime": 0,
       "subtype": "tableResultSubCmd.visualization",
       "tableResultIndex": 0,
       "tableResultSettingsMap": {},
       "useConsistentColors": false,
       "version": "CommandV1",
       "width": "auto",
       "workflows": null,
       "xColumns": null,
       "yColumns": null
      }
     },
     "output_type": "display_data"
    }
   ],
   "source": [
    "from pyspark.sql.functions import corr\n",
    "\n",
    "# Select numeric columns for correlation matrix\n",
    "numeric_columns = [c for c, t in df.dtypes if t in ['int', 'double']]\n",
    "\n",
    "# Compute the Pearson correlation matrix\n",
    "correlation_values = []\n",
    "for i, col1 in enumerate(numeric_columns):\n",
    "    for col2 in numeric_columns[i:]:\n",
    "        corr_value = df.stat.corr(col1, col2)\n",
    "        correlation_values.append((col1, col2, corr_value))\n",
    "\n",
    "# Convert the correlation values to a DataFrame for better visualization\n",
    "correlation_df = spark.createDataFrame(\n",
    "    correlation_values,\n",
    "    [\"column1\", \"column2\", \"correlation\"]\n",
    ")\n",
    "\n",
    "display(correlation_df)"
   ]
  },
  {
   "cell_type": "code",
   "execution_count": 0,
   "metadata": {
    "application/vnd.databricks.v1+cell": {
     "cellMetadata": {
      "byteLimit": 2048000,
      "rowLimit": 10000
     },
     "inputWidgets": {},
     "nuid": "a6125d1e-0341-4e48-86f4-2c9702c09c97",
     "showTitle": false,
     "tableResultSettingsMap": {},
     "title": ""
    }
   },
   "outputs": [
    {
     "output_type": "display_data",
     "data": {
      "text/plain": [
       "Databricks visualization. Run in Databricks to view."
      ]
     },
     "metadata": {
      "application/vnd.databricks.v1.subcommand+json": {
       "baseErrorDetails": null,
       "bindings": {},
       "collapsed": false,
       "command": "%python\n__backend_agg_display_orig = display\n__backend_agg_dfs = []\ndef __backend_agg_display_new(df):\n    __backend_agg_df_modules = [\"pandas.core.frame\", \"databricks.koalas.frame\", \"pyspark.sql.dataframe\", \"pyspark.pandas.frame\", \"pyspark.sql.connect.dataframe\"]\n    if (type(df).__module__ in __backend_agg_df_modules and type(df).__name__ == 'DataFrame') or isinstance(df, list):\n        __backend_agg_dfs.append(df)\n\ndisplay = __backend_agg_display_new\n\ndef __backend_agg_user_code_fn():\n    import base64\n    exec(base64.standard_b64decode(\"ZnJvbSBweXNwYXJrLnNxbC5mdW5jdGlvbnMgaW1wb3J0IGNvbCwgY29sbGVjdF9saXN0CgojIENoZWNraW5nIE91dGxpZXJzIHVzaW5nIElRUiBtZXRob2QKcmVzdWx0X291dGxpZXJzID0gW10KCmZvciBjb2x1bW4gaW4gZGYuY29sdW1uczoKICAgICAgICAjIENhbGN1bGF0ZSBRMSBhbmQgUTMKICAgICAgICBxdWFudGlsZXMgPSBkZi5hcHByb3hRdWFudGlsZShjb2x1bW4sIFswLjI1LCAwLjc1XSwgMC4wMSkKICAgICAgICBRMSwgUTMgPSBxdWFudGlsZXNbMF0sIHF1YW50aWxlc1sxXQogICAgICAgIElRUiA9IFEzIC0gUTEKICAgICAgICBsb3dlciA9IFExIC0gMS41ICogSVFSCiAgICAgICAgdXBwZXIgPSBRMyArIDEuNSAqIElRUgoKICAgICAgICAjIEZpbHRlciBvdXRsaWVycwogICAgICAgIGxvd2VyX291dGxpZXJzID0gZGYuZmlsdGVyKGNvbChjb2x1bW4pIDwgbG93ZXIpLnNlbGVjdChjb2xsZWN0X2xpc3QoY29sKCJpZCIpKS5hbGlhcygibG93ZXJfYXJyYXkiKSkuZmlyc3QoKVsibG93ZXJfYXJyYXkiXQogICAgICAgIHVwcGVyX291dGxpZXJzID0gZGYuZmlsdGVyKGNvbChjb2x1bW4pID4gdXBwZXIpLnNlbGVjdChjb2xsZWN0X2xpc3QoY29sKCJpZCIpKS5hbGlhcygidXBwZXJfYXJyYXkiKSkuZmlyc3QoKVsidXBwZXJfYXJyYXkiXQoKICAgICAgICBpZiBsb3dlcl9vdXRsaWVycyBvciB1cHBlcl9vdXRsaWVyczoKICAgICAgICAgICAgcmVzdWx0X291dGxpZXJzLmFwcGVuZCh7CiAgICAgICAgICAgICAgICAndmFyaWFibGVfbmFtZSc6IGNvbHVtbiwKICAgICAgICAgICAgICAgICdsb3dlcl9mZW5jZSc6IGxvd2VyLAogICAgICAgICAgICAgICAgJ3VwcGVyX2ZlbmNlJzogdXBwZXIsCiAgICAgICAgICAgICAgICAnTnVtYmVyX29mX29ic19sZXNzX3RoYW5fbG93ZXJfZmVuY2UnOiBsZW4obG93ZXJfb3V0bGllcnMpLAogICAgICAgICAgICAgICAgJ051bWJlcl9vZl9vYnNfZ3JlYXRlcl90aGFuX3VwcGVyX2ZlbmNlJzogbGVuKHVwcGVyX291dGxpZXJzKSwKICAgICAgICAgICAgICAgICdsb3dlcl9hcnJheSc6IGxvd2VyX291dGxpZXJzWzoxMF0sCiAgICAgICAgICAgICAgICAndXBwZXJfYXJyYXknOiB1cHBlcl9vdXRsaWVyc1s6MTBdCiAgICAgICAgICAgIH0pCiAgICAgICAgZWxzZToKICAgICAgICAgICAgcmVzdWx0X291dGxpZXJzLmFwcGVuZCh7CiAgICAgICAgICAgICAgICAndmFyaWFibGVfbmFtZSc6IGNvbHVtbiwKICAgICAgICAgICAgICAgICdtZXNzYWdlJzogJ05vIG91dGxpZXJzIHByZXNlbnQnCiAgICAgICAgICAgIH0pCgppZiByZXN1bHRfb3V0bGllcnM6CiAgICBkaXNwbGF5KHJlc3VsdF9vdXRsaWVycykKZWxzZToKICAgIHByaW50KCJObyBvdXRsaWVycyBmb3VuZCBpbiBhbnkgY29sdW1uLiIp\").decode())\n\ntry:\n    # run user code\n    __backend_agg_user_code_fn()\n\n    #reset display function\n    display = __backend_agg_display_orig\n\n    if len(__backend_agg_dfs) > 0:\n        # create a temp view\n        if type(__backend_agg_dfs[0]).__module__ == \"databricks.koalas.frame\":\n            # koalas dataframe\n            __backend_agg_dfs[0].to_spark().createOrReplaceTempView(\"DatabricksViewd526507\")\n        elif type(__backend_agg_dfs[0]).__module__ == \"pandas.core.frame\" or isinstance(__backend_agg_dfs[0], list):\n            # pandas dataframe\n            spark.createDataFrame(__backend_agg_dfs[0]).createOrReplaceTempView(\"DatabricksViewd526507\")\n        else:\n            __backend_agg_dfs[0].createOrReplaceTempView(\"DatabricksViewd526507\")\n        #run backend agg\n        display(spark.sql(\"\"\"WITH q AS (select * from DatabricksViewd526507) SELECT `variable_name`,`Number_of_obs_greater_than_upper_fence`,`variable_name` FROM q\"\"\"))\n    else:\n        displayHTML(\"dataframe no longer exists. If you're using dataframe.display(), use display(dataframe) instead.\")\n\n\nfinally:\n    spark.sql(\"drop view if exists DatabricksViewd526507\")\n    display = __backend_agg_display_orig\n    del __backend_agg_display_new\n    del __backend_agg_display_orig\n    del __backend_agg_dfs\n    del __backend_agg_user_code_fn\n\n",
       "commandTitle": "Visualization 1",
       "commandType": "auto",
       "commandVersion": 0,
       "commentThread": [],
       "commentsVisible": false,
       "contentSha256Hex": null,
       "customPlotOptions": {
        "redashChart": [
         {
          "key": "type",
          "value": "CHART"
         },
         {
          "key": "options",
          "value": {
           "alignYAxesAtZero": true,
           "coefficient": 1,
           "columnConfigurationMap": {
            "series": {
             "column": "variable_name",
             "id": "column_e31b4a71196"
            },
            "x": {
             "column": "variable_name",
             "id": "column_e31b4a71142"
            },
            "y": [
             {
              "column": "Number_of_obs_greater_than_upper_fence",
              "id": "column_e31b4a71209"
             }
            ]
           },
           "dateTimeFormat": "DD/MM/YYYY HH:mm",
           "direction": {
            "type": "counterclockwise"
           },
           "error_y": {
            "type": "data",
            "visible": true
           },
           "globalSeriesType": "scatter",
           "legend": {
            "traceorder": "normal"
           },
           "missingValuesAsZero": true,
           "numberFormat": "0,0.[00000]",
           "percentFormat": "0[.]00%",
           "series": {
            "error_y": {
             "type": "data",
             "visible": true
            },
            "stacking": null
           },
           "seriesOptions": {
            "Number_of_obs_greater_than_upper_fence": {
             "type": "scatter",
             "yAxis": 0
            },
            "Number_of_obs_less_than_lower_fence": {
             "type": "scatter",
             "yAxis": 0
            },
            "lower_array": {
             "type": "scatter",
             "yAxis": 0
            },
            "lower_fence": {
             "type": "scatter",
             "yAxis": 0
            },
            "upper_array": {
             "type": "scatter",
             "yAxis": 0
            },
            "upper_fence": {
             "type": "scatter",
             "yAxis": 0
            },
            "variable_name": {
             "type": "scatter",
             "yAxis": 0
            }
           },
           "showDataLabels": false,
           "sizemode": "diameter",
           "sortX": true,
           "sortY": true,
           "swappedAxes": false,
           "textFormat": "",
           "useAggregationsUi": true,
           "valuesOptions": {},
           "version": 2,
           "xAxis": {
            "labels": {
             "enabled": true
            },
            "type": "-"
           },
           "yAxis": [
            {
             "type": "-"
            },
            {
             "opposite": true,
             "type": "-"
            }
           ]
          }
         }
        ]
       },
       "datasetPreviewNameToCmdIdMap": {},
       "diffDeletes": [],
       "diffInserts": [],
       "displayType": "redashChart",
       "error": null,
       "errorDetails": null,
       "errorSummary": null,
       "errorTraceType": null,
       "finishTime": 0,
       "globalVars": {},
       "guid": "",
       "height": "auto",
       "hideCommandCode": false,
       "hideCommandResult": false,
       "iPythonMetadata": null,
       "inputWidgets": {},
       "isLockedInExamMode": false,
       "latestUser": "a user",
       "latestUserId": null,
       "listResultMetadata": null,
       "metadata": {},
       "nuid": "1bc370a4-2e60-417a-a8c5-b650bdb11d77",
       "origId": 0,
       "parentHierarchy": [],
       "pivotAggregation": null,
       "pivotColumns": null,
       "position": 9.0,
       "resultDbfsErrorMessage": null,
       "resultDbfsStatus": "INLINED_IN_TREE",
       "results": null,
       "showCommandTitle": false,
       "startTime": 0,
       "state": "input",
       "streamStates": {},
       "subcommandOptions": {
        "queryPlan": {
         "selects": [
          {
           "column": "variable_name",
           "type": "column"
          },
          {
           "column": "Number_of_obs_greater_than_upper_fence",
           "type": "column"
          },
          {
           "column": "variable_name",
           "type": "column"
          }
         ]
        }
       },
       "submitTime": 0,
       "subtype": "tableResultSubCmd.visualization",
       "tableResultIndex": 0,
       "tableResultSettingsMap": {},
       "useConsistentColors": false,
       "version": "CommandV1",
       "width": "auto",
       "workflows": null,
       "xColumns": null,
       "yColumns": null
      }
     },
     "output_type": "display_data"
    }
   ],
   "source": [
    "from pyspark.sql.functions import col, collect_list\n",
    "\n",
    "# Checking Outliers using IQR method\n",
    "result_outliers = []\n",
    "\n",
    "for column in df.columns:\n",
    "        # Calculate Q1 and Q3\n",
    "        quantiles = df.approxQuantile(column, [0.25, 0.75], 0.01)\n",
    "        Q1, Q3 = quantiles[0], quantiles[1]\n",
    "        IQR = Q3 - Q1\n",
    "        lower = Q1 - 1.5 * IQR\n",
    "        upper = Q3 + 1.5 * IQR\n",
    "\n",
    "        # Filter outliers\n",
    "        lower_outliers = df.filter(col(column) < lower).select(collect_list(col(\"id\")).alias(\"lower_array\")).first()[\"lower_array\"]\n",
    "        upper_outliers = df.filter(col(column) > upper).select(collect_list(col(\"id\")).alias(\"upper_array\")).first()[\"upper_array\"]\n",
    "\n",
    "        if lower_outliers or upper_outliers:\n",
    "            result_outliers.append({\n",
    "                'variable_name': column,\n",
    "                'lower_fence': lower,\n",
    "                'upper_fence': upper,\n",
    "                'Number_of_obs_less_than_lower_fence': len(lower_outliers),\n",
    "                'Number_of_obs_greater_than_upper_fence': len(upper_outliers),\n",
    "                'lower_array': lower_outliers[:10],\n",
    "                'upper_array': upper_outliers[:10]\n",
    "            })\n",
    "        else:\n",
    "            result_outliers.append({\n",
    "                'variable_name': column,\n",
    "                'message': 'No outliers present'\n",
    "            })\n",
    "\n",
    "if result_outliers:\n",
    "    display(result_outliers)\n",
    "else:\n",
    "    print(\"No outliers found in any column.\")"
   ]
  },
  {
   "cell_type": "code",
   "execution_count": 0,
   "metadata": {
    "application/vnd.databricks.v1+cell": {
     "cellMetadata": {
      "byteLimit": 2048000,
      "rowLimit": 10000
     },
     "inputWidgets": {},
     "nuid": "0666232a-14fd-4bd9-a882-502f012ca20e",
     "showTitle": false,
     "tableResultSettingsMap": {},
     "title": ""
    }
   },
   "outputs": [],
   "source": [
    "from pyspark.sql.functions import col, when\n",
    "\n",
    "# Function to replace outliers with lower and upper fence\n",
    "def replace_outliers_with_fence(df, column):\n",
    "    quantiles = df.approxQuantile(column, [0.25, 0.75], 0.01)\n",
    "    Q1, Q3 = quantiles[0], quantiles[1]\n",
    "    IQR = Q3 - Q1\n",
    "    lower = Q1 - 1.5 * IQR\n",
    "    upper = Q3 + 1.5 * IQR\n",
    "\n",
    "    df = df.withColumn(column, when(col(column) < lower, lower)\n",
    "                      .when(col(column) > upper, upper)\n",
    "                      .otherwise(col(column)))\n",
    "    return df\n",
    "\n",
    "# Apply the function to all numeric columns\n",
    "for column in numeric_columns:\n",
    "    df = replace_outliers_with_fence(df, column)\n",
    "\n",
    "display(df)"
   ]
  },
  {
   "cell_type": "code",
   "execution_count": 0,
   "metadata": {
    "application/vnd.databricks.v1+cell": {
     "cellMetadata": {
      "byteLimit": 2048000,
      "rowLimit": 10000
     },
     "inputWidgets": {},
     "nuid": "c284da0d-fa7a-4af2-bfa8-37cfc2081c52",
     "showTitle": false,
     "tableResultSettingsMap": {},
     "title": ""
    }
   },
   "outputs": [
    {
     "output_type": "display_data",
     "data": {
      "text/plain": [
       "Databricks visualization. Run in Databricks to view."
      ]
     },
     "metadata": {
      "application/vnd.databricks.v1.subcommand+json": {
       "baseErrorDetails": null,
       "bindings": {},
       "collapsed": false,
       "command": "%python\n__backend_agg_display_orig = display\n__backend_agg_dfs = []\ndef __backend_agg_display_new(df):\n    __backend_agg_df_modules = [\"pandas.core.frame\", \"databricks.koalas.frame\", \"pyspark.sql.dataframe\", \"pyspark.pandas.frame\", \"pyspark.sql.connect.dataframe\"]\n    if (type(df).__module__ in __backend_agg_df_modules and type(df).__name__ == 'DataFrame') or isinstance(df, list):\n        __backend_agg_dfs.append(df)\n\ndisplay = __backend_agg_display_new\n\ndef __backend_agg_user_code_fn():\n    import base64\n    exec(base64.standard_b64decode(\"ZmlsdGVyZWRfZGYgPSBkZi5maWx0ZXIoY29sKCJpZCIpLmlzaW4oWzEsIDIsIDMsIDRdKSkuc2VsZWN0KCJpZCIsICJDeWNsZSIsICJTZW5zb3JNZWFzdXJlMSIpCmRpc3BsYXkoZmlsdGVyZWRfZGYp\").decode())\n\ntry:\n    # run user code\n    __backend_agg_user_code_fn()\n\n    #reset display function\n    display = __backend_agg_display_orig\n\n    if len(__backend_agg_dfs) > 0:\n        # create a temp view\n        if type(__backend_agg_dfs[0]).__module__ == \"databricks.koalas.frame\":\n            # koalas dataframe\n            __backend_agg_dfs[0].to_spark().createOrReplaceTempView(\"DatabricksView8bb24d9\")\n        elif type(__backend_agg_dfs[0]).__module__ == \"pandas.core.frame\" or isinstance(__backend_agg_dfs[0], list):\n            # pandas dataframe\n            spark.createDataFrame(__backend_agg_dfs[0]).createOrReplaceTempView(\"DatabricksView8bb24d9\")\n        else:\n            __backend_agg_dfs[0].createOrReplaceTempView(\"DatabricksView8bb24d9\")\n        #run backend agg\n        display(spark.sql(\"\"\"WITH q AS (select * from DatabricksView8bb24d9) SELECT `Cycle`,AVG(`SensorMeasure1`) `column_e31b4a71237`,`id` FROM q GROUP BY `Cycle`,`id`\"\"\"))\n    else:\n        displayHTML(\"dataframe no longer exists. If you're using dataframe.display(), use display(dataframe) instead.\")\n\n\nfinally:\n    spark.sql(\"drop view if exists DatabricksView8bb24d9\")\n    display = __backend_agg_display_orig\n    del __backend_agg_display_new\n    del __backend_agg_display_orig\n    del __backend_agg_dfs\n    del __backend_agg_user_code_fn\n\n",
       "commandTitle": "Visualization 1",
       "commandType": "auto",
       "commandVersion": 0,
       "commentThread": [],
       "commentsVisible": false,
       "contentSha256Hex": null,
       "customPlotOptions": {
        "redashChart": [
         {
          "key": "type",
          "value": "CHART"
         },
         {
          "key": "options",
          "value": {
           "alignYAxesAtZero": true,
           "coefficient": 1,
           "columnConfigurationMap": {
            "x": {
             "column": "Cycle",
             "id": "column_e31b4a71235"
            },
            "y": [
             {
              "column": "SensorMeasure1",
              "id": "column_e31b4a71237",
              "transform": "AVG"
             }
            ]
           },
           "dateTimeFormat": "DD/MM/YYYY HH:mm",
           "direction": {
            "type": "counterclockwise"
           },
           "error_y": {
            "type": "data",
            "visible": true
           },
           "globalSeriesType": "line",
           "isAggregationOn": true,
           "legend": {
            "traceorder": "normal"
           },
           "missingValuesAsZero": true,
           "numberFormat": "0,0.[00000]",
           "percentFormat": "0[.]00%",
           "series": {
            "error_y": {
             "type": "data",
             "visible": true
            },
            "stacking": null
           },
           "seriesOptions": {
            "column_e31b4a71237": {
             "type": "line",
             "yAxis": 0
            }
           },
           "showDataLabels": false,
           "sizemode": "diameter",
           "sortX": true,
           "sortY": true,
           "swappedAxes": false,
           "textFormat": "",
           "useAggregationsUi": true,
           "valuesOptions": {},
           "version": 2,
           "xAxis": {
            "labels": {
             "enabled": true
            },
            "type": "-"
           },
           "yAxis": [
            {
             "type": "-"
            },
            {
             "opposite": true,
             "type": "-"
            }
           ]
          }
         }
        ]
       },
       "datasetPreviewNameToCmdIdMap": {},
       "diffDeletes": [],
       "diffInserts": [],
       "displayType": "redashChart",
       "error": null,
       "errorDetails": null,
       "errorSummary": null,
       "errorTraceType": null,
       "finishTime": 0,
       "globalVars": {},
       "guid": "",
       "height": "auto",
       "hideCommandCode": false,
       "hideCommandResult": false,
       "iPythonMetadata": null,
       "inputWidgets": {},
       "isLockedInExamMode": false,
       "latestUser": "a user",
       "latestUserId": null,
       "listResultMetadata": null,
       "metadata": {},
       "nuid": "4c8bd5f7-7c31-4dbf-a866-24e427a933fc",
       "origId": 0,
       "parentHierarchy": [],
       "pivotAggregation": null,
       "pivotColumns": null,
       "position": 11.0,
       "resultDbfsErrorMessage": null,
       "resultDbfsStatus": "INLINED_IN_TREE",
       "results": null,
       "showCommandTitle": false,
       "startTime": 0,
       "state": "input",
       "streamStates": {},
       "subcommandOptions": {
        "queryPlan": {
         "groups": [
          {
           "column": "Cycle",
           "type": "column"
          }
         ],
         "selects": [
          {
           "column": "Cycle",
           "type": "column"
          },
          {
           "alias": "column_e31b4a71237",
           "args": [
            {
             "column": "SensorMeasure1",
             "type": "column"
            }
           ],
           "function": "AVG",
           "type": "function"
          }
         ]
        }
       },
       "submitTime": 0,
       "subtype": "tableResultSubCmd.visualization",
       "tableResultIndex": 0,
       "tableResultSettingsMap": {},
       "useConsistentColors": false,
       "version": "CommandV1",
       "width": "auto",
       "workflows": null,
       "xColumns": null,
       "yColumns": null
      }
     },
     "output_type": "display_data"
    }
   ],
   "source": [
    "filtered_df = df.filter(col(\"id\").isin([1, 2, 3, 4])).select(\"id\", \"Cycle\", \"SensorMeasure1\")\n",
    "display(filtered_df)"
   ]
  },
  {
   "cell_type": "code",
   "execution_count": 0,
   "metadata": {
    "application/vnd.databricks.v1+cell": {
     "cellMetadata": {
      "byteLimit": 2048000,
      "rowLimit": 10000
     },
     "inputWidgets": {},
     "nuid": "9450f2eb-bd54-452b-8ae3-ce4878007f78",
     "showTitle": false,
     "tableResultSettingsMap": {},
     "title": ""
    }
   },
   "outputs": [
    {
     "output_type": "display_data",
     "data": {
      "text/plain": [
       "Databricks visualization. Run in Databricks to view."
      ]
     },
     "metadata": {
      "application/vnd.databricks.v1.subcommand+json": {
       "baseErrorDetails": null,
       "bindings": {},
       "collapsed": false,
       "command": "%python\n__backend_agg_display_orig = display\n__backend_agg_dfs = []\ndef __backend_agg_display_new(df):\n    __backend_agg_df_modules = [\"pandas.core.frame\", \"databricks.koalas.frame\", \"pyspark.sql.dataframe\", \"pyspark.pandas.frame\", \"pyspark.sql.connect.dataframe\"]\n    if (type(df).__module__ in __backend_agg_df_modules and type(df).__name__ == 'DataFrame') or isinstance(df, list):\n        __backend_agg_dfs.append(df)\n\ndisplay = __backend_agg_display_new\n\ndef __backend_agg_user_code_fn():\n    import base64\n    exec(base64.standard_b64decode(\"ZmlsdGVyZWRfc2Vuc29yMjBfZGYgPSBkZi5maWx0ZXIoY29sKCJpZCIpLmlzaW4oWzEsIDIsIDMsIDRdKSkuc2VsZWN0KCJpZCIsICJDeWNsZSIsICJTZW5zb3JNZWFzdXJlMjAiKQpkaXNwbGF5KGZpbHRlcmVkX3NlbnNvcjIwX2RmKQ==\").decode())\n\ntry:\n    # run user code\n    __backend_agg_user_code_fn()\n\n    #reset display function\n    display = __backend_agg_display_orig\n\n    if len(__backend_agg_dfs) > 0:\n        # create a temp view\n        if type(__backend_agg_dfs[0]).__module__ == \"databricks.koalas.frame\":\n            # koalas dataframe\n            __backend_agg_dfs[0].to_spark().createOrReplaceTempView(\"DatabricksView92d57a8\")\n        elif type(__backend_agg_dfs[0]).__module__ == \"pandas.core.frame\" or isinstance(__backend_agg_dfs[0], list):\n            # pandas dataframe\n            spark.createDataFrame(__backend_agg_dfs[0]).createOrReplaceTempView(\"DatabricksView92d57a8\")\n        else:\n            __backend_agg_dfs[0].createOrReplaceTempView(\"DatabricksView92d57a8\")\n        #run backend agg\n        display(spark.sql(\"\"\"WITH q AS (select * from DatabricksView92d57a8) SELECT `Cycle`,AVG(`SensorMeasure20`) `column_e31b4a71242` FROM q GROUP BY `Cycle`\"\"\"))\n    else:\n        displayHTML(\"dataframe no longer exists. If you're using dataframe.display(), use display(dataframe) instead.\")\n\n\nfinally:\n    spark.sql(\"drop view if exists DatabricksView92d57a8\")\n    display = __backend_agg_display_orig\n    del __backend_agg_display_new\n    del __backend_agg_display_orig\n    del __backend_agg_dfs\n    del __backend_agg_user_code_fn\n\n",
       "commandTitle": "Visualization 1",
       "commandType": "auto",
       "commandVersion": 0,
       "commentThread": [],
       "commentsVisible": false,
       "contentSha256Hex": null,
       "customPlotOptions": {
        "redashChart": [
         {
          "key": "type",
          "value": "CHART"
         },
         {
          "key": "options",
          "value": {
           "alignYAxesAtZero": true,
           "coefficient": 1,
           "columnConfigurationMap": {
            "x": {
             "column": "Cycle",
             "id": "column_e31b4a71240"
            },
            "y": [
             {
              "column": "SensorMeasure20",
              "id": "column_e31b4a71242",
              "transform": "AVG"
             }
            ]
           },
           "dateTimeFormat": "DD/MM/YYYY HH:mm",
           "direction": {
            "type": "counterclockwise"
           },
           "error_y": {
            "type": "data",
            "visible": true
           },
           "globalSeriesType": "line",
           "isAggregationOn": true,
           "legend": {
            "traceorder": "normal"
           },
           "missingValuesAsZero": true,
           "numberFormat": "0,0.[00000]",
           "percentFormat": "0[.]00%",
           "series": {
            "error_y": {
             "type": "data",
             "visible": true
            },
            "stacking": null
           },
           "seriesOptions": {
            "column_e31b4a71242": {
             "type": "line",
             "yAxis": 0
            }
           },
           "showDataLabels": false,
           "sizemode": "diameter",
           "sortX": true,
           "sortY": true,
           "swappedAxes": false,
           "textFormat": "",
           "useAggregationsUi": true,
           "valuesOptions": {},
           "version": 2,
           "xAxis": {
            "labels": {
             "enabled": true
            },
            "type": "-"
           },
           "yAxis": [
            {
             "type": "-"
            },
            {
             "opposite": true,
             "type": "-"
            }
           ]
          }
         }
        ]
       },
       "datasetPreviewNameToCmdIdMap": {},
       "diffDeletes": [],
       "diffInserts": [],
       "displayType": "redashChart",
       "error": null,
       "errorDetails": null,
       "errorSummary": null,
       "errorTraceType": null,
       "finishTime": 0,
       "globalVars": {},
       "guid": "",
       "height": "auto",
       "hideCommandCode": false,
       "hideCommandResult": false,
       "iPythonMetadata": null,
       "inputWidgets": {},
       "isLockedInExamMode": false,
       "latestUser": "a user",
       "latestUserId": null,
       "listResultMetadata": null,
       "metadata": {},
       "nuid": "4a862adb-e5f8-4b64-a588-76b0bc4f3cf9",
       "origId": 0,
       "parentHierarchy": [],
       "pivotAggregation": null,
       "pivotColumns": null,
       "position": 12.0,
       "resultDbfsErrorMessage": null,
       "resultDbfsStatus": "INLINED_IN_TREE",
       "results": null,
       "showCommandTitle": false,
       "startTime": 0,
       "state": "input",
       "streamStates": {},
       "subcommandOptions": {
        "queryPlan": {
         "groups": [
          {
           "column": "Cycle",
           "type": "column"
          }
         ],
         "selects": [
          {
           "column": "Cycle",
           "type": "column"
          },
          {
           "alias": "column_e31b4a71242",
           "args": [
            {
             "column": "SensorMeasure20",
             "type": "column"
            }
           ],
           "function": "AVG",
           "type": "function"
          }
         ]
        }
       },
       "submitTime": 0,
       "subtype": "tableResultSubCmd.visualization",
       "tableResultIndex": 0,
       "tableResultSettingsMap": {},
       "useConsistentColors": false,
       "version": "CommandV1",
       "width": "auto",
       "workflows": null,
       "xColumns": null,
       "yColumns": null
      }
     },
     "output_type": "display_data"
    }
   ],
   "source": [
    "filtered_sensor20_df = df.filter(col(\"id\").isin([1, 2, 3, 4])).select(\"id\", \"Cycle\", \"SensorMeasure20\")\n",
    "display(filtered_sensor20_df)"
   ]
  },
  {
   "cell_type": "code",
   "execution_count": 0,
   "metadata": {
    "application/vnd.databricks.v1+cell": {
     "cellMetadata": {
      "byteLimit": 2048000,
      "rowLimit": 10000
     },
     "inputWidgets": {},
     "nuid": "c737b44d-56ae-4c7b-83ac-a8936ab5181c",
     "showTitle": false,
     "tableResultSettingsMap": {},
     "title": ""
    }
   },
   "outputs": [
    {
     "output_type": "display_data",
     "data": {
      "text/plain": [
       "Databricks visualization. Run in Databricks to view."
      ]
     },
     "metadata": {
      "application/vnd.databricks.v1.subcommand+json": {
       "baseErrorDetails": null,
       "bindings": {},
       "collapsed": false,
       "command": "%python\n__backend_agg_display_orig = display\n__backend_agg_dfs = []\ndef __backend_agg_display_new(df):\n    __backend_agg_df_modules = [\"pandas.core.frame\", \"databricks.koalas.frame\", \"pyspark.sql.dataframe\", \"pyspark.pandas.frame\", \"pyspark.sql.connect.dataframe\"]\n    if (type(df).__module__ in __backend_agg_df_modules and type(df).__name__ == 'DataFrame') or isinstance(df, list):\n        __backend_agg_dfs.append(df)\n\ndisplay = __backend_agg_display_new\n\ndef __backend_agg_user_code_fn():\n    import base64\n    exec(base64.standard_b64decode(\"ZmlsdGVyZWRfaWQxNTBfZGYgPSBkZi5maWx0ZXIoY29sKCJpZCIpLmlzaW4oWzE1MF0pKQpkaXNwbGF5KGZpbHRlcmVkX2lkMTUwX2RmKQ==\").decode())\n\ntry:\n    # run user code\n    __backend_agg_user_code_fn()\n\n    #reset display function\n    display = __backend_agg_display_orig\n\n    if len(__backend_agg_dfs) > 0:\n        # create a temp view\n        if type(__backend_agg_dfs[0]).__module__ == \"databricks.koalas.frame\":\n            # koalas dataframe\n            __backend_agg_dfs[0].to_spark().createOrReplaceTempView(\"DatabricksView5714879\")\n        elif type(__backend_agg_dfs[0]).__module__ == \"pandas.core.frame\" or isinstance(__backend_agg_dfs[0], list):\n            # pandas dataframe\n            spark.createDataFrame(__backend_agg_dfs[0]).createOrReplaceTempView(\"DatabricksView5714879\")\n        else:\n            __backend_agg_dfs[0].createOrReplaceTempView(\"DatabricksView5714879\")\n        #run backend agg\n        display(spark.sql(\"\"\"WITH q AS (select * from DatabricksView5714879) SELECT `Cycle`,SUM(`SensorMeasure1`) `column_e31b4a71252`,SUM(`SensorMeasure2`) `column_e31b4a71254`,SUM(`SensorMeasure3`) `column_e31b4a71256`,SUM(`SensorMeasure4`) `column_e31b4a71258`,SUM(`SensorMeasure5`) `column_e31b4a71260`,SUM(`SensorMeasure6`) `column_e31b4a71262`,SUM(`SensorMeasure7`) `column_e31b4a71264`,SUM(`SensorMeasure8`) `column_e31b4a71266`,SUM(`SensorMeasure9`) `column_e31b4a71268`,SUM(`SensorMeasure10`) `column_e31b4a71270` FROM q GROUP BY `Cycle`\"\"\"))\n    else:\n        displayHTML(\"dataframe no longer exists. If you're using dataframe.display(), use display(dataframe) instead.\")\n\n\nfinally:\n    spark.sql(\"drop view if exists DatabricksView5714879\")\n    display = __backend_agg_display_orig\n    del __backend_agg_display_new\n    del __backend_agg_display_orig\n    del __backend_agg_dfs\n    del __backend_agg_user_code_fn\n\n",
       "commandTitle": "Visualization 1",
       "commandType": "auto",
       "commandVersion": 0,
       "commentThread": [],
       "commentsVisible": false,
       "contentSha256Hex": null,
       "customPlotOptions": {
        "redashChart": [
         {
          "key": "type",
          "value": "CHART"
         },
         {
          "key": "options",
          "value": {
           "alignYAxesAtZero": true,
           "coefficient": 1,
           "columnConfigurationMap": {
            "x": {
             "column": "Cycle",
             "id": "column_e31b4a71249"
            },
            "y": [
             {
              "column": "SensorMeasure1",
              "id": "column_e31b4a71252",
              "transform": "SUM"
             },
             {
              "column": "SensorMeasure2",
              "id": "column_e31b4a71254",
              "transform": "SUM"
             },
             {
              "column": "SensorMeasure3",
              "id": "column_e31b4a71256",
              "transform": "SUM"
             },
             {
              "column": "SensorMeasure4",
              "id": "column_e31b4a71258",
              "transform": "SUM"
             },
             {
              "column": "SensorMeasure5",
              "id": "column_e31b4a71260",
              "transform": "SUM"
             },
             {
              "column": "SensorMeasure6",
              "id": "column_e31b4a71262",
              "transform": "SUM"
             },
             {
              "column": "SensorMeasure7",
              "id": "column_e31b4a71264",
              "transform": "SUM"
             },
             {
              "column": "SensorMeasure8",
              "id": "column_e31b4a71266",
              "transform": "SUM"
             },
             {
              "column": "SensorMeasure9",
              "id": "column_e31b4a71268",
              "transform": "SUM"
             },
             {
              "column": "SensorMeasure10",
              "id": "column_e31b4a71270",
              "transform": "SUM"
             }
            ]
           },
           "dateTimeFormat": "DD/MM/YYYY HH:mm",
           "direction": {
            "type": "counterclockwise"
           },
           "error_y": {
            "type": "data",
            "visible": true
           },
           "globalSeriesType": "line",
           "isAggregationOn": true,
           "legend": {
            "traceorder": "normal"
           },
           "missingValuesAsZero": true,
           "numberFormat": "0,0.[00000]",
           "percentFormat": "0[.]00%",
           "series": {
            "error_y": {
             "type": "data",
             "visible": true
            },
            "stacking": null
           },
           "seriesOptions": {
            "column_e31b4a71252": {
             "type": "line",
             "yAxis": 0
            },
            "column_e31b4a71254": {
             "type": "line",
             "yAxis": 0
            },
            "column_e31b4a71256": {
             "type": "line",
             "yAxis": 0
            },
            "column_e31b4a71258": {
             "type": "line",
             "yAxis": 0
            },
            "column_e31b4a71260": {
             "type": "line",
             "yAxis": 0
            },
            "column_e31b4a71262": {
             "type": "line",
             "yAxis": 0
            },
            "column_e31b4a71264": {
             "type": "line",
             "yAxis": 0
            },
            "column_e31b4a71266": {
             "type": "line",
             "yAxis": 0
            },
            "column_e31b4a71268": {
             "type": "line",
             "yAxis": 0
            },
            "column_e31b4a71270": {
             "type": "line",
             "yAxis": 0
            }
           },
           "showDataLabels": false,
           "sizemode": "diameter",
           "sortX": true,
           "sortY": true,
           "swappedAxes": false,
           "textFormat": "",
           "useAggregationsUi": true,
           "valuesOptions": {},
           "version": 2,
           "xAxis": {
            "labels": {
             "enabled": true
            },
            "type": "-"
           },
           "yAxis": [
            {
             "type": "-"
            },
            {
             "opposite": true,
             "type": "-"
            }
           ]
          }
         }
        ]
       },
       "datasetPreviewNameToCmdIdMap": {},
       "diffDeletes": [],
       "diffInserts": [],
       "displayType": "redashChart",
       "error": null,
       "errorDetails": null,
       "errorSummary": null,
       "errorTraceType": null,
       "finishTime": 0,
       "globalVars": {},
       "guid": "",
       "height": "auto",
       "hideCommandCode": false,
       "hideCommandResult": false,
       "iPythonMetadata": null,
       "inputWidgets": {},
       "isLockedInExamMode": false,
       "latestUser": "a user",
       "latestUserId": null,
       "listResultMetadata": null,
       "metadata": {},
       "nuid": "111f075a-9c12-4e3b-9466-217109b6285b",
       "origId": 0,
       "parentHierarchy": [],
       "pivotAggregation": null,
       "pivotColumns": null,
       "position": 13.0,
       "resultDbfsErrorMessage": null,
       "resultDbfsStatus": "INLINED_IN_TREE",
       "results": null,
       "showCommandTitle": false,
       "startTime": 0,
       "state": "input",
       "streamStates": {},
       "subcommandOptions": {
        "queryPlan": {
         "groups": [
          {
           "column": "Cycle",
           "type": "column"
          }
         ],
         "selects": [
          {
           "column": "Cycle",
           "type": "column"
          },
          {
           "alias": "column_e31b4a71252",
           "args": [
            {
             "column": "SensorMeasure1",
             "type": "column"
            }
           ],
           "function": "SUM",
           "type": "function"
          },
          {
           "alias": "column_e31b4a71254",
           "args": [
            {
             "column": "SensorMeasure2",
             "type": "column"
            }
           ],
           "function": "SUM",
           "type": "function"
          },
          {
           "alias": "column_e31b4a71256",
           "args": [
            {
             "column": "SensorMeasure3",
             "type": "column"
            }
           ],
           "function": "SUM",
           "type": "function"
          },
          {
           "alias": "column_e31b4a71258",
           "args": [
            {
             "column": "SensorMeasure4",
             "type": "column"
            }
           ],
           "function": "SUM",
           "type": "function"
          },
          {
           "alias": "column_e31b4a71260",
           "args": [
            {
             "column": "SensorMeasure5",
             "type": "column"
            }
           ],
           "function": "SUM",
           "type": "function"
          },
          {
           "alias": "column_e31b4a71262",
           "args": [
            {
             "column": "SensorMeasure6",
             "type": "column"
            }
           ],
           "function": "SUM",
           "type": "function"
          },
          {
           "alias": "column_e31b4a71264",
           "args": [
            {
             "column": "SensorMeasure7",
             "type": "column"
            }
           ],
           "function": "SUM",
           "type": "function"
          },
          {
           "alias": "column_e31b4a71266",
           "args": [
            {
             "column": "SensorMeasure8",
             "type": "column"
            }
           ],
           "function": "SUM",
           "type": "function"
          },
          {
           "alias": "column_e31b4a71268",
           "args": [
            {
             "column": "SensorMeasure9",
             "type": "column"
            }
           ],
           "function": "SUM",
           "type": "function"
          },
          {
           "alias": "column_e31b4a71270",
           "args": [
            {
             "column": "SensorMeasure10",
             "type": "column"
            }
           ],
           "function": "SUM",
           "type": "function"
          }
         ]
        }
       },
       "submitTime": 0,
       "subtype": "tableResultSubCmd.visualization",
       "tableResultIndex": 0,
       "tableResultSettingsMap": {},
       "useConsistentColors": false,
       "version": "CommandV1",
       "width": "auto",
       "workflows": null,
       "xColumns": null,
       "yColumns": null
      }
     },
     "output_type": "display_data"
    }
   ],
   "source": [
    "filtered_id150_df = df.filter(col(\"id\").isin([150]))\n",
    "display(filtered_id150_df)"
   ]
  },
  {
   "cell_type": "code",
   "execution_count": 0,
   "metadata": {
    "application/vnd.databricks.v1+cell": {
     "cellMetadata": {
      "byteLimit": 2048000,
      "rowLimit": 10000
     },
     "inputWidgets": {},
     "nuid": "98f3b73f-e2d1-4064-a5f0-5d9dfdca682f",
     "showTitle": false,
     "tableResultSettingsMap": {},
     "title": ""
    }
   },
   "outputs": [
    {
     "output_type": "display_data",
     "data": {
      "text/plain": [
       "Databricks visualization. Run in Databricks to view."
      ]
     },
     "metadata": {
      "application/vnd.databricks.v1.subcommand+json": {
       "baseErrorDetails": null,
       "bindings": {},
       "collapsed": false,
       "command": "%python\n__backend_agg_display_orig = display\n__backend_agg_dfs = []\ndef __backend_agg_display_new(df):\n    __backend_agg_df_modules = [\"pandas.core.frame\", \"databricks.koalas.frame\", \"pyspark.sql.dataframe\", \"pyspark.pandas.frame\", \"pyspark.sql.connect.dataframe\"]\n    if (type(df).__module__ in __backend_agg_df_modules and type(df).__name__ == 'DataFrame') or isinstance(df, list):\n        __backend_agg_dfs.append(df)\n\ndisplay = __backend_agg_display_new\n\ndef __backend_agg_user_code_fn():\n    import base64\n    exec(base64.standard_b64decode(\"ZmlsdGVyZWRfaWQ1MDBfZGYgPSBkZi5maWx0ZXIoY29sKCJpZCIpLmlzaW4oWzUwMF0pKQpkaXNwbGF5KGZpbHRlcmVkX2lkNTAwX2RmKQ==\").decode())\n\ntry:\n    # run user code\n    __backend_agg_user_code_fn()\n\n    #reset display function\n    display = __backend_agg_display_orig\n\n    if len(__backend_agg_dfs) > 0:\n        # create a temp view\n        if type(__backend_agg_dfs[0]).__module__ == \"databricks.koalas.frame\":\n            # koalas dataframe\n            __backend_agg_dfs[0].to_spark().createOrReplaceTempView(\"DatabricksView1f42eb4\")\n        elif type(__backend_agg_dfs[0]).__module__ == \"pandas.core.frame\" or isinstance(__backend_agg_dfs[0], list):\n            # pandas dataframe\n            spark.createDataFrame(__backend_agg_dfs[0]).createOrReplaceTempView(\"DatabricksView1f42eb4\")\n        else:\n            __backend_agg_dfs[0].createOrReplaceTempView(\"DatabricksView1f42eb4\")\n        #run backend agg\n        display(spark.sql(\"\"\"WITH q AS (select * from DatabricksView1f42eb4) SELECT `Cycle`,`SensorMeasure10`,`SensorMeasure20` FROM q\"\"\"))\n    else:\n        displayHTML(\"dataframe no longer exists. If you're using dataframe.display(), use display(dataframe) instead.\")\n\n\nfinally:\n    spark.sql(\"drop view if exists DatabricksView1f42eb4\")\n    display = __backend_agg_display_orig\n    del __backend_agg_display_new\n    del __backend_agg_display_orig\n    del __backend_agg_dfs\n    del __backend_agg_user_code_fn\n\n",
       "commandTitle": "Visualization 1",
       "commandType": "auto",
       "commandVersion": 0,
       "commentThread": [],
       "commentsVisible": false,
       "contentSha256Hex": null,
       "customPlotOptions": {
        "redashChart": [
         {
          "key": "type",
          "value": "CHART"
         },
         {
          "key": "options",
          "value": {
           "alignYAxesAtZero": true,
           "coefficient": 1,
           "columnConfigurationMap": {
            "x": {
             "column": "Cycle",
             "id": "column_e31b4a71272"
            },
            "y": [
             {
              "column": "SensorMeasure10",
              "id": "column_e31b4a71279"
             },
             {
              "column": "SensorMeasure20",
              "id": "column_e31b4a71280"
             }
            ]
           },
           "dateTimeFormat": "DD/MM/YYYY HH:mm",
           "direction": {
            "type": "counterclockwise"
           },
           "error_y": {
            "type": "data",
            "visible": true
           },
           "globalSeriesType": "scatter",
           "legend": {
            "traceorder": "normal"
           },
           "missingValuesAsZero": true,
           "numberFormat": "0,0.[00000]",
           "percentFormat": "0[.]00%",
           "series": {
            "error_y": {
             "type": "data",
             "visible": true
            },
            "stacking": null
           },
           "seriesOptions": {
            "SensorMeasure1": {
             "type": "scatter",
             "yAxis": 0
            },
            "SensorMeasure10": {
             "type": "scatter",
             "yAxis": 0
            },
            "SensorMeasure20": {
             "type": "scatter",
             "yAxis": 0
            },
            "column_e31b4a71274": {
             "type": "scatter",
             "yAxis": 0
            },
            "id": {
             "type": "scatter",
             "yAxis": 0
            }
           },
           "showDataLabels": false,
           "sizemode": "diameter",
           "sortX": true,
           "sortY": true,
           "swappedAxes": false,
           "textFormat": "",
           "useAggregationsUi": true,
           "valuesOptions": {},
           "version": 2,
           "xAxis": {
            "labels": {
             "enabled": true
            },
            "type": "-"
           },
           "yAxis": [
            {
             "type": "-"
            },
            {
             "opposite": true,
             "type": "-"
            }
           ]
          }
         }
        ]
       },
       "datasetPreviewNameToCmdIdMap": {},
       "diffDeletes": [],
       "diffInserts": [],
       "displayType": "redashChart",
       "error": null,
       "errorDetails": null,
       "errorSummary": null,
       "errorTraceType": null,
       "finishTime": 0,
       "globalVars": {},
       "guid": "",
       "height": "auto",
       "hideCommandCode": false,
       "hideCommandResult": false,
       "iPythonMetadata": null,
       "inputWidgets": {},
       "isLockedInExamMode": false,
       "latestUser": "a user",
       "latestUserId": null,
       "listResultMetadata": null,
       "metadata": {},
       "nuid": "5873aac7-4a54-4199-9abe-17620f6b8391",
       "origId": 0,
       "parentHierarchy": [],
       "pivotAggregation": null,
       "pivotColumns": null,
       "position": 14.0,
       "resultDbfsErrorMessage": null,
       "resultDbfsStatus": "INLINED_IN_TREE",
       "results": null,
       "showCommandTitle": false,
       "startTime": 0,
       "state": "input",
       "streamStates": {},
       "subcommandOptions": {
        "queryPlan": {
         "selects": [
          {
           "column": "Cycle",
           "type": "column"
          },
          {
           "column": "SensorMeasure10",
           "type": "column"
          },
          {
           "column": "SensorMeasure20",
           "type": "column"
          }
         ]
        }
       },
       "submitTime": 0,
       "subtype": "tableResultSubCmd.visualization",
       "tableResultIndex": 0,
       "tableResultSettingsMap": {},
       "useConsistentColors": false,
       "version": "CommandV1",
       "width": "auto",
       "workflows": null,
       "xColumns": null,
       "yColumns": null
      }
     },
     "output_type": "display_data"
    }
   ],
   "source": [
    "filtered_id500_df = df.filter(col(\"id\").isin([500]))\n",
    "display(filtered_id500_df)"
   ]
  }
 ],
 "metadata": {
  "application/vnd.databricks.v1+notebook": {
   "computePreferences": null,
   "dashboards": [],
   "environmentMetadata": {
    "base_environment": "",
    "client": "1"
   },
   "language": "python",
   "notebookMetadata": {
    "pythonIndentUnit": 4
   },
   "notebookName": "01-ingest-and-eda",
   "widgets": {}
  },
  "language_info": {
   "name": "python"
  }
 },
 "nbformat": 4,
 "nbformat_minor": 0
}
