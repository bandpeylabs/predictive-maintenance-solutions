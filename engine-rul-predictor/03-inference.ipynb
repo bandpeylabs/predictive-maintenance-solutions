{
 "cells": [
  {
   "cell_type": "code",
   "execution_count": 0,
   "metadata": {
    "application/vnd.databricks.v1+cell": {
     "cellMetadata": {
      "byteLimit": 2048000,
      "rowLimit": 10000
     },
     "inputWidgets": {},
     "nuid": "19fe52ee-2560-4965-96e4-bdf7758f1189",
     "showTitle": false,
     "tableResultSettingsMap": {},
     "title": ""
    }
   },
   "outputs": [],
   "source": [
    "catalog = 'demos'\n",
    "database = \"engine_rul_predictor\"\n",
    "model_name = \"engine_rul_predictor\"\n",
    "source_table = \"features\"\n",
    "target_table = \"gold\""
   ]
  },
  {
   "cell_type": "code",
   "execution_count": 0,
   "metadata": {
    "application/vnd.databricks.v1+cell": {
     "cellMetadata": {
      "byteLimit": 2048000,
      "rowLimit": 10000
     },
     "inputWidgets": {},
     "nuid": "5c98103f-10e1-4087-a334-248591bb20e1",
     "showTitle": false,
     "tableResultSettingsMap": {},
     "title": ""
    }
   },
   "outputs": [],
   "source": [
    "# Set the default catalog and schema\n",
    "spark.sql(f\"USE CATALOG {catalog}\")\n",
    "spark.sql(f\"USE {database}\")"
   ]
  },
  {
   "cell_type": "code",
   "execution_count": 0,
   "metadata": {
    "application/vnd.databricks.v1+cell": {
     "cellMetadata": {
      "byteLimit": 2048000,
      "rowLimit": 10000
     },
     "inputWidgets": {},
     "nuid": "0415fd49-8b52-44ec-a835-dd9f4709c8ab",
     "showTitle": false,
     "tableResultSettingsMap": {},
     "title": ""
    }
   },
   "outputs": [],
   "source": [
    "# Read Features Data\n",
    "features_df = (\n",
    "  spark.read\n",
    "    .format(\"delta\")\n",
    "    .table(f\"{database}.{source_table}\")\n",
    ")"
   ]
  },
  {
   "cell_type": "code",
   "execution_count": 0,
   "metadata": {
    "application/vnd.databricks.v1+cell": {
     "cellMetadata": {
      "byteLimit": 2048000,
      "rowLimit": 10000
     },
     "inputWidgets": {},
     "nuid": "9df7c07e-ecba-4b10-bf8d-851d0005bd24",
     "showTitle": false,
     "tableResultSettingsMap": {},
     "title": ""
    }
   },
   "outputs": [],
   "source": [
    "import mlflow\n",
    "import pyspark.sql.functions as F\n",
    "\n",
    "# Feature and predict function\n",
    "def predict_rul(data):\n",
    "    # Load the model\n",
    "    model_uri = f'models:/{model_name}@production'\n",
    "    model_fct = mlflow.pyfunc.spark_udf(spark, model_uri=model_uri)\n",
    "\n",
    "    # Ensure OpSet1 is cast to float\n",
    "    data = data.withColumn(\"OpSet1\", data[\"OpSet1\"].cast(\"float\"))\n",
    "\n",
    "    # Make the prediction\n",
    "    prediction_df = data.withColumn('prediction', model_fct(*data.columns).getItem(0))\n",
    "    \n",
    "    # Clean up the output\n",
    "    clean_pred_df = prediction_df.select(\n",
    "'id','Cycle', 'OpSet1', 'OpSet2', 'OpSet3', 'SensorMeasure1', 'SensorMeasure2', 'SensorMeasure3',\n",
    "        'SensorMeasure4', 'SensorMeasure5', 'SensorMeasure6', 'SensorMeasure7', 'SensorMeasure8', \n",
    "        'SensorMeasure9', 'SensorMeasure10', 'SensorMeasure11', 'SensorMeasure12', 'SensorMeasure13', \n",
    "        'SensorMeasure14', 'SensorMeasure15', 'SensorMeasure16', 'SensorMeasure17', 'SensorMeasure18', \n",
    "        'SensorMeasure19', 'SensorMeasure20', 'SensorMeasure21', 'RemainingUsefulLife', \n",
    "         'prediction'\n",
    "    )\n",
    "    \n",
    "    return clean_pred_df"
   ]
  },
  {
   "cell_type": "code",
   "execution_count": 0,
   "metadata": {
    "application/vnd.databricks.v1+cell": {
     "cellMetadata": {
      "byteLimit": 2048000,
      "rowLimit": 10000
     },
     "inputWidgets": {},
     "nuid": "46afdfac-b579-44f1-86bb-6833a1d28ddd",
     "showTitle": false,
     "tableResultSettingsMap": {},
     "title": ""
    }
   },
   "outputs": [],
   "source": [
    "predicted_df = predict_rul(features_df)\n",
    "display(predicted_df)"
   ]
  },
  {
   "cell_type": "code",
   "execution_count": 0,
   "metadata": {
    "application/vnd.databricks.v1+cell": {
     "cellMetadata": {
      "byteLimit": 2048000,
      "rowLimit": 10000
     },
     "inputWidgets": {},
     "nuid": "9ccd0d7e-8751-4cdc-b75c-6e6cd4e5398b",
     "showTitle": false,
     "tableResultSettingsMap": {},
     "title": ""
    }
   },
   "outputs": [],
   "source": [
    "# Write the output to a Gold Delta table\n",
    "predicted_df.write.format('delta').mode('overwrite').saveAsTable(f\"{database}.{target_table}\")"
   ]
  },
  {
   "cell_type": "code",
   "execution_count": 0,
   "metadata": {
    "application/vnd.databricks.v1+cell": {
     "cellMetadata": {
      "byteLimit": 2048000,
      "rowLimit": 10000
     },
     "inputWidgets": {},
     "nuid": "e3e2fe50-b032-48e9-bd73-c6786217932c",
     "showTitle": false,
     "tableResultSettingsMap": {},
     "title": ""
    }
   },
   "outputs": [],
   "source": [
    "display(spark.table(f\"{database}.{target_table}\"))"
   ]
  }
 ],
 "metadata": {
  "application/vnd.databricks.v1+notebook": {
   "computePreferences": null,
   "dashboards": [],
   "environmentMetadata": {
    "base_environment": "",
    "client": "1"
   },
   "language": "python",
   "notebookMetadata": {
    "pythonIndentUnit": 4
   },
   "notebookName": "03-inference",
   "widgets": {}
  },
  "language_info": {
   "name": "python"
  }
 },
 "nbformat": 4,
 "nbformat_minor": 0
}
