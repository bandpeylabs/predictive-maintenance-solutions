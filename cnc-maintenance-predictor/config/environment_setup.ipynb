{
 "cells": [
  {
   "cell_type": "code",
   "execution_count": 0,
   "metadata": {
    "application/vnd.databricks.v1+cell": {
     "cellMetadata": {},
     "inputWidgets": {},
     "nuid": "6d291aa2-0c2b-4267-b33f-05cdf6e28e58",
     "showTitle": false,
     "tableResultSettingsMap": {},
     "title": ""
    }
   },
   "outputs": [],
   "source": [
    "# %pip install requirements.txt"
   ]
  },
  {
   "cell_type": "code",
   "execution_count": 0,
   "metadata": {
    "application/vnd.databricks.v1+cell": {
     "cellMetadata": {},
     "inputWidgets": {},
     "nuid": "f2d593cc-2750-4edf-92b0-870625b31818",
     "showTitle": false,
     "tableResultSettingsMap": {},
     "title": ""
    }
   },
   "outputs": [],
   "source": [
    "dbutils.library.restartPython()"
   ]
  },
  {
   "cell_type": "code",
   "execution_count": 0,
   "metadata": {
    "application/vnd.databricks.v1+cell": {
     "cellMetadata": {
      "byteLimit": 2048000,
      "rowLimit": 10000
     },
     "inputWidgets": {},
     "nuid": "e62ca93c-8501-458f-aa7e-cb70cff2968c",
     "showTitle": false,
     "tableResultSettingsMap": {},
     "title": ""
    }
   },
   "outputs": [],
   "source": [
    "import configparser\n",
    "config = configparser.ConfigParser()\n",
    "config.read('config/environment.ini')\n",
    "config = config['CNC_MAINTENANCE_PREDICTOR']"
   ]
  },
  {
   "cell_type": "code",
   "execution_count": 0,
   "metadata": {
    "application/vnd.databricks.v1+cell": {
     "cellMetadata": {
      "byteLimit": 2048000,
      "rowLimit": 10000
     },
     "inputWidgets": {},
     "nuid": "096a8d84-c9b4-4592-ab66-9e40f19bdd1c",
     "showTitle": false,
     "tableResultSettingsMap": {},
     "title": ""
    }
   },
   "outputs": [],
   "source": [
    "config"
   ]
  },
  {
   "cell_type": "code",
   "execution_count": 0,
   "metadata": {
    "application/vnd.databricks.v1+cell": {
     "cellMetadata": {
      "byteLimit": 2048000,
      "rowLimit": 10000
     },
     "inputWidgets": {},
     "nuid": "052cc687-b3c5-4f01-9be1-049322e414d0",
     "showTitle": false,
     "tableResultSettingsMap": {},
     "title": ""
    }
   },
   "outputs": [],
   "source": [
    "def catalogs():\n",
    "  return set(sql(\"SHOW CATALOGS\").toPandas()['catalog'].to_list())\n",
    "\n",
    "def schemas(catalog):\n",
    "  return set(sql(f\"SHOW DATABASES IN {catalog}\").toPandas()['databaseName'].to_list())"
   ]
  },
  {
   "cell_type": "code",
   "execution_count": 0,
   "metadata": {
    "application/vnd.databricks.v1+cell": {
     "cellMetadata": {
      "byteLimit": 2048000,
      "rowLimit": 10000
     },
     "inputWidgets": {},
     "nuid": "072c80c9-2a41-4d37-85c0-64b38daf9890",
     "showTitle": false,
     "tableResultSettingsMap": {},
     "title": ""
    }
   },
   "outputs": [],
   "source": [
    "if config['catalog'] not in catalogs():\n",
    "    msg = f\"Catalog [{config['catalog']}] does not exist\"\n",
    "    print(msg)\n",
    "    try:\n",
    "        _ = sql(f\"CREATE CATALOG {config['catalog']}\")\n",
    "    except:\n",
    "        raise Exception('Catalog creation failed')\n",
    "\n",
    "# Set the catalog as default\n",
    "sql(f\"USE CATALOG {config['catalog']}\")\n",
    "\n",
    "# Check and create schema if it does not exist\n",
    "if config['schema'] not in schemas(config['catalog']):\n",
    "    msg = f\"Schema [{config['catalog']}.{config['schema']}] does not exist\"\n",
    "    print(msg)\n",
    "    try:\n",
    "        _ = sql(f\"CREATE DATABASE {config['catalog']}.{config['schema']}\")\n",
    "    except:\n",
    "        raise Exception('Schema creation failed')\n",
    "\n",
    "# Set the schema as default\n",
    "sql(f\"USE SCHEMA {config['schema']}\")"
   ]
  },
  {
   "cell_type": "code",
   "execution_count": 0,
   "metadata": {
    "application/vnd.databricks.v1+cell": {
     "cellMetadata": {},
     "inputWidgets": {},
     "nuid": "4313546b-f056-425e-ad31-6d19923f4a01",
     "showTitle": false,
     "tableResultSettingsMap": {},
     "title": ""
    }
   },
   "outputs": [],
   "source": [
    "bronze_table = f\"{config['catalog']}.{config['schema']}.{config['bronze']}\"\n",
    "silver_table = f\"{config['catalog']}.{config['schema']}.{config['silver']}\"\n",
    "gold_table = f\"{config['catalog']}.{config['schema']}.{config['gold']}\"\n",
    "source_table = config['source']\n",
    "experiment_name = config['experiment']\n",
    "model_name = config['model']"
   ]
  },
  {
   "cell_type": "code",
   "execution_count": 0,
   "metadata": {
    "application/vnd.databricks.v1+cell": {
     "cellMetadata": {},
     "inputWidgets": {},
     "nuid": "e216b06d-62d5-4da6-ae61-b27d3a17100d",
     "showTitle": false,
     "tableResultSettingsMap": {},
     "title": ""
    }
   },
   "outputs": [],
   "source": [
    "import mlflow\n",
    "\n",
    "username = dbutils.notebook.entry_point.getDbutils().notebook().getContext().userName().get()\n",
    "mlflow.set_experiment(f'/Users/{username}/{experiment_name}')"
   ]
  }
 ],
 "metadata": {
  "application/vnd.databricks.v1+notebook": {
   "computePreferences": null,
   "dashboards": [],
   "environmentMetadata": {
    "base_environment": "",
    "client": "1"
   },
   "language": "python",
   "notebookMetadata": {
    "pythonIndentUnit": 4
   },
   "notebookName": "environment_setup",
   "widgets": {}
  },
  "language_info": {
   "name": "python"
  }
 },
 "nbformat": 4,
 "nbformat_minor": 0
}
